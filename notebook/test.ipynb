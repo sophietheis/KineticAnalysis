{
 "cells": [
  {
   "cell_type": "code",
   "execution_count": null,
   "id": "fad72255",
   "metadata": {},
   "outputs": [],
   "source": [
    "import numpy as np\n",
    "import pandas as pd\n",
    "from scipy import optimize\n",
    "\n",
    "import matplotlib.pyplot as plt\n",
    "\n",
    "import multipletau"
   ]
  },
  {
   "cell_type": "code",
   "execution_count": null,
   "id": "381a71e5",
   "metadata": {},
   "outputs": [],
   "source": [
    "a = np.linspace(2,5,42)\n",
    "v = np.linspace(1,6,42)\n",
    "multipletau.correlate(a, v, m=2)\n"
   ]
  },
  {
   "cell_type": "code",
   "execution_count": null,
   "id": "0b931709",
   "metadata": {},
   "outputs": [],
   "source": [
    "multipletau.autocorrelate(a)"
   ]
  },
  {
   "cell_type": "code",
   "execution_count": null,
   "id": "d4cde165",
   "metadata": {},
   "outputs": [],
   "source": []
  },
  {
   "cell_type": "code",
   "execution_count": null,
   "id": "3836ec60",
   "metadata": {},
   "outputs": [],
   "source": [
    "datas = pd.read_csv(\"/mnt/sda1/Sophie/MouniaLagha/wetransfer_sna-suntag-fast-imaging_2022-10-04_1344/220822 scFv msGFP2 x Snail Core 32X Suntag 24X MS2 E1 z8 t4_Airyscan Processing-20_spots.csv\")\n",
    "datas.head()\n",
    "datas.drop(index=[0,1,2], inplace=True)\n",
    "datas['FRAME'] = pd.to_numeric(datas[\"FRAME\"])\n",
    "datas['POSITION_X'] = pd.to_numeric(datas[\"POSITION_X\"])\n",
    "datas['POSITION_Y'] = pd.to_numeric(datas[\"POSITION_Y\"])\n",
    "datas['TRACK_ID'] = pd.to_numeric(datas[\"TRACK_ID\"])\n",
    "datas['MEAN_INTENSITY_CH1'] = pd.to_numeric(datas[\"MEAN_INTENSITY_CH1\"])\n",
    "datas['POSITION_T'] = pd.to_numeric(datas[\"POSITION_T\"])\n",
    "datas.head()"
   ]
  },
  {
   "cell_type": "code",
   "execution_count": null,
   "id": "233d377e",
   "metadata": {
    "scrolled": false
   },
   "outputs": [],
   "source": [
    "fig, ax = plt.subplots()\n",
    "id_= 1\n",
    "ax.scatter(datas[datas.TRACK_ID==id_].sort_values('FRAME')['POSITION_X'].to_numpy(),\n",
    "         datas[datas.TRACK_ID==id_].sort_values('FRAME')['POSITION_Y'].to_numpy(),\n",
    "         c=datas[datas.TRACK_ID==id_].sort_values('FRAME')['MEAN_INTENSITY_CH1'].values,\n",
    "         cmap='Blues', s=50)\n",
    "\n",
    "ax.plot(datas[datas.TRACK_ID==id_].sort_values('FRAME')['POSITION_X'].to_numpy(),\n",
    "         datas[datas.TRACK_ID==id_].sort_values('FRAME')['POSITION_Y'].to_numpy(), color='lightgray')\n",
    "fig.set_size_inches((12,12))"
   ]
  },
  {
   "cell_type": "code",
   "execution_count": null,
   "id": "386a9d4f",
   "metadata": {
    "scrolled": false
   },
   "outputs": [],
   "source": [
    "from mpl_toolkits.mplot3d.axes3d import Axes3D\n",
    "fig = plt.figure()\n",
    "ax = plt.axes(projection='3d')\n",
    "\n",
    "\n",
    "ax.get_proj = lambda: np.dot(Axes3D.get_proj(ax), np.diag([2, 1, 1, 1]))\n",
    "\n",
    "for id_ in np.unique(datas['TRACK_ID']):\n",
    "\n",
    "    ax.plot(datas[datas.TRACK_ID==id_].sort_values('FRAME')['POSITION_T'].to_numpy(),\n",
    "             datas[datas.TRACK_ID==id_].sort_values('FRAME')['POSITION_X'].to_numpy(),\n",
    "             datas[datas.TRACK_ID==id_].sort_values('FRAME')['POSITION_Y'].to_numpy(),\n",
    "            '.-')\n",
    "\n",
    "\n",
    "\n",
    "fig.set_size_inches((10,10))\n",
    "\n",
    "ax.view_init(elev=10., azim=-80)"
   ]
  },
  {
   "cell_type": "code",
   "execution_count": null,
   "id": "0374db94",
   "metadata": {},
   "outputs": [],
   "source": [
    "# plt.plot(datas[datas.TRACK_ID==id_].sort_values('FRAME')['MEAN_INTENSITY_CH1'].values)#/65535*100)\n",
    "plt.plot(datas[datas.TRACK_ID==id_].sort_values('FRAME')['MEAN_INTENSITY_CH1'].values/65535*100)\n",
    "# plt.plot(datas[datas.TRACK_ID==25].sort_values('FRAME')['MEAN_INTENSITY_CH1'].values/np.max(datas[datas.TRACK_ID==id_].sort_values('FRAME')['MEAN_INTENSITY_CH1'].values))"
   ]
  },
  {
   "cell_type": "code",
   "execution_count": null,
   "id": "7f9e5565",
   "metadata": {},
   "outputs": [],
   "source": [
    "autocor = multipletau.autocorrelate(datas[datas.TRACK_ID==id_].sort_values('FRAME')['MEAN_INTENSITY_CH1'].values/65535*100,\n",
    "                                   m=int(len(datas[datas.TRACK_ID==id_].sort_values('FRAME')['MEAN_INTENSITY_CH1'].values)/2-1))\n",
    "autocor"
   ]
  },
  {
   "cell_type": "code",
   "execution_count": null,
   "id": "5817e577",
   "metadata": {},
   "outputs": [],
   "source": []
  },
  {
   "cell_type": "code",
   "execution_count": null,
   "id": "a6518fc4",
   "metadata": {},
   "outputs": [],
   "source": [
    "def func_(x, T, c):\n",
    "    return (((T-x)/(c*T**2))*np.heaviside((T-x),0))\n",
    "\n",
    "popt, pcov = optimize.curve_fit(func, \n",
    "                                autocor.flatten()[0::2],\n",
    "                                autocor.flatten()[1::2], \n",
    "                                method='lm' )\n",
    "popt, pcov "
   ]
  },
  {
   "cell_type": "code",
   "execution_count": null,
   "id": "02883456",
   "metadata": {},
   "outputs": [],
   "source": [
    "plt.plot(autocor.flatten()[0::2], autocor.flatten()[1::2])\n",
    "plt.plot(autocor.flatten()[0::2], func_(autocor.flatten()[0::2], *popt) )"
   ]
  },
  {
   "cell_type": "code",
   "execution_count": null,
   "id": "1da2568c",
   "metadata": {},
   "outputs": [],
   "source": []
  },
  {
   "cell_type": "code",
   "execution_count": null,
   "id": "0c3759f1",
   "metadata": {},
   "outputs": [],
   "source": []
  },
  {
   "cell_type": "code",
   "execution_count": null,
   "id": "03facb01",
   "metadata": {},
   "outputs": [],
   "source": [
    "import napari\n",
    "import numpy as np\n",
    "from PIL import Image\n",
    "from skimage.io import imread\n",
    "\n",
    "# viewer = napari.view_image()"
   ]
  },
  {
   "cell_type": "code",
   "execution_count": null,
   "id": "c243488e",
   "metadata": {},
   "outputs": [],
   "source": [
    "img = imread(\"/mnt/sda1/Sophie/Organoids/Tiago_Datas/18/tif/day1_pblive002_A01_G018_0001.oir-1.tif\")\n",
    "\n",
    "img_color1 = img[:, :, 0]\n",
    "img_color1 = img[:, :, 1]\n",
    "\n"
   ]
  },
  {
   "cell_type": "code",
   "execution_count": null,
   "id": "83afd4de",
   "metadata": {},
   "outputs": [],
   "source": [
    "img.shape"
   ]
  },
  {
   "cell_type": "code",
   "execution_count": null,
   "id": "c19e7535",
   "metadata": {},
   "outputs": [],
   "source": [
    "fig, ax = plt.subplots()\n",
    "ax.imshow(np.array(img[100,:,1,250,:]))\n",
    "fig.set_size_inches((20,20))"
   ]
  },
  {
   "cell_type": "code",
   "execution_count": null,
   "id": "dcde6a1e",
   "metadata": {},
   "outputs": [],
   "source": [
    "viewer = napari.view_image(img)"
   ]
  },
  {
   "cell_type": "code",
   "execution_count": null,
   "id": "52ee9c36",
   "metadata": {},
   "outputs": [],
   "source": []
  },
  {
   "cell_type": "code",
   "execution_count": null,
   "id": "fbefdfeb",
   "metadata": {},
   "outputs": [],
   "source": []
  },
  {
   "cell_type": "code",
   "execution_count": null,
   "id": "bc775e71",
   "metadata": {},
   "outputs": [],
   "source": []
  }
 ],
 "metadata": {
  "kernelspec": {
   "display_name": "Python 3 (ipykernel)",
   "language": "python",
   "name": "python3"
  },
  "language_info": {
   "codemirror_mode": {
    "name": "ipython",
    "version": 3
   },
   "file_extension": ".py",
   "mimetype": "text/x-python",
   "name": "python",
   "nbconvert_exporter": "python",
   "pygments_lexer": "ipython3",
   "version": "3.9.12"
  }
 },
 "nbformat": 4,
 "nbformat_minor": 5
}
