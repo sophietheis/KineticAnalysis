{
 "cells": [
  {
   "cell_type": "code",
   "execution_count": 1,
   "id": "2e0bb1f3",
   "metadata": {
    "ExecuteTime": {
     "end_time": "2024-11-26T09:28:46.212969Z",
     "start_time": "2024-11-26T09:28:45.408394Z"
    }
   },
   "outputs": [],
   "source": [
    "import os\n",
    "import sys\n",
    "\n",
    "import numpy as np\n",
    "import pandas as pd\n",
    "import seaborn as sns\n",
    "\n",
    "import matplotlib.pyplot as plt\n",
    "\n",
    "sys.path.insert(0, '../kinetic_analysis')\n",
    "from kinetic_function import (single_track_analysis,\n",
    "                              generate_track\n",
    "                             )"
   ]
  },
  {
   "cell_type": "code",
   "execution_count": 2,
   "id": "63a23887",
   "metadata": {
    "ExecuteTime": {
     "end_time": "2024-11-26T09:28:46.218870Z",
     "start_time": "2024-11-26T09:28:46.216992Z"
    }
   },
   "outputs": [],
   "source": [
    "prot_aa_size = {\n",
    "    \"32xsuntag\": 796,  #768/32=24 , left 28\n",
    "    \"linker\": 4,\n",
    "    \"twist\": 490,\n",
    "    \"ilp4\": 134,\n",
    "    \"snail\": 390,\n",
    "    \"very_long_prot\":2000, \n",
    "}"
   ]
  },
  {
   "cell_type": "code",
   "execution_count": 3,
   "id": "7431c382",
   "metadata": {
    "ExecuteTime": {
     "end_time": "2024-11-26T09:28:46.224559Z",
     "start_time": "2024-11-26T09:28:46.220313Z"
    }
   },
   "outputs": [],
   "source": [
    "path_save = \"/home/u2175049/Documents/Code/KineticAnalysis/notebook/figures/\"\n",
    "path = \"/mnt/sda1/Sophie/2-KineticAnalysisData/2-Datas/05-Modelling/07_ElongationRate/\""
   ]
  },
  {
   "cell_type": "code",
   "execution_count": 111,
   "id": "ff4bc4c7-71db-4319-81cf-5eb5c7836de3",
   "metadata": {
    "ExecuteTime": {
     "end_time": "2024-11-26T08:39:40.610877Z",
     "start_time": "2024-11-26T08:35:12.562935Z"
    }
   },
   "outputs": [],
   "source": [
    "first_time = True\n",
    "for elong_r in [0.5, 1, 2.5, 5, 10, 20, 30, 40]:\n",
    "    for i in range(100):\n",
    "        x_global, y_global, y_start_prot = generate_track(prot_length = prot_aa_size[\"snail\"], \n",
    "                                                          suntag_length = prot_aa_size[\"32xsuntag\"],\n",
    "                                                          nb_suntag=32, \n",
    "                                                          fluo_one_suntag=4, \n",
    "                                                          translation_rate=elong_r, \n",
    "                                                          binding_rate=0.05,\n",
    "                                                          retention_time=0,\n",
    "                                                          suntag_pos=\"begin\",\n",
    "                                                          step = 0.1,\n",
    "                                                          length=6000)\n",
    "        if first_time:\n",
    "            datas = pd.DataFrame({\"FRAME\":x_global,\n",
    "                                  \"MEAN_INTENSITY_CH1\":y_global,\n",
    "                                  \"TRACK_ID\" : i,\n",
    "                                  \"ELONGATION_RATE\":elong_r,\n",
    "                                 })\n",
    "            first_time = False\n",
    "        else:\n",
    "            datas = pd.concat([datas, \n",
    "                               pd.DataFrame({\"FRAME\":x_global,\n",
    "                                              \"MEAN_INTENSITY_CH1\":y_global,\n",
    "                                              \"TRACK_ID\" : i,\n",
    "                                             \"ELONGATION_RATE\":elong_r,\n",
    "                                 })], ignore_index=True)\n",
    "\n",
    "\n",
    "datas.to_csv(os.path.join(path, \"datas_elongation_rate.csv\"))"
   ]
  },
  {
   "cell_type": "code",
   "execution_count": 4,
   "id": "ed884846-5066-4bb1-8fa3-164b7443839a",
   "metadata": {
    "ExecuteTime": {
     "end_time": "2024-11-26T09:29:03.580179Z",
     "start_time": "2024-11-26T09:28:48.288520Z"
    }
   },
   "outputs": [],
   "source": [
    "datas = pd.read_csv(os.path.join(path, \"datas_elongation_rate.csv\"), index_col=\"Unnamed: 0\")"
   ]
  },
  {
   "cell_type": "code",
   "execution_count": 5,
   "id": "86962d2b",
   "metadata": {
    "ExecuteTime": {
     "end_time": "2024-11-26T09:29:03.590073Z",
     "start_time": "2024-11-26T09:29:03.581401Z"
    }
   },
   "outputs": [
    {
     "data": {
      "text/html": [
       "<div>\n",
       "<style scoped>\n",
       "    .dataframe tbody tr th:only-of-type {\n",
       "        vertical-align: middle;\n",
       "    }\n",
       "\n",
       "    .dataframe tbody tr th {\n",
       "        vertical-align: top;\n",
       "    }\n",
       "\n",
       "    .dataframe thead th {\n",
       "        text-align: right;\n",
       "    }\n",
       "</style>\n",
       "<table border=\"1\" class=\"dataframe\">\n",
       "  <thead>\n",
       "    <tr style=\"text-align: right;\">\n",
       "      <th></th>\n",
       "      <th>FRAME</th>\n",
       "      <th>MEAN_INTENSITY_CH1</th>\n",
       "      <th>TRACK_ID</th>\n",
       "      <th>ELONGATION_RATE</th>\n",
       "    </tr>\n",
       "  </thead>\n",
       "  <tbody>\n",
       "    <tr>\n",
       "      <th>0</th>\n",
       "      <td>0.0</td>\n",
       "      <td>37.973869</td>\n",
       "      <td>0</td>\n",
       "      <td>0.5</td>\n",
       "    </tr>\n",
       "    <tr>\n",
       "      <th>1</th>\n",
       "      <td>0.1</td>\n",
       "      <td>38.006030</td>\n",
       "      <td>0</td>\n",
       "      <td>0.5</td>\n",
       "    </tr>\n",
       "    <tr>\n",
       "      <th>2</th>\n",
       "      <td>0.2</td>\n",
       "      <td>38.038191</td>\n",
       "      <td>0</td>\n",
       "      <td>0.5</td>\n",
       "    </tr>\n",
       "    <tr>\n",
       "      <th>3</th>\n",
       "      <td>0.3</td>\n",
       "      <td>38.070352</td>\n",
       "      <td>0</td>\n",
       "      <td>0.5</td>\n",
       "    </tr>\n",
       "    <tr>\n",
       "      <th>4</th>\n",
       "      <td>0.4</td>\n",
       "      <td>38.102513</td>\n",
       "      <td>0</td>\n",
       "      <td>0.5</td>\n",
       "    </tr>\n",
       "  </tbody>\n",
       "</table>\n",
       "</div>"
      ],
      "text/plain": [
       "   FRAME  MEAN_INTENSITY_CH1  TRACK_ID  ELONGATION_RATE\n",
       "0    0.0           37.973869         0              0.5\n",
       "1    0.1           38.006030         0              0.5\n",
       "2    0.2           38.038191         0              0.5\n",
       "3    0.3           38.070352         0              0.5\n",
       "4    0.4           38.102513         0              0.5"
      ]
     },
     "execution_count": 5,
     "metadata": {},
     "output_type": "execute_result"
    }
   ],
   "source": [
    "datas.head()"
   ]
  },
  {
   "cell_type": "code",
   "execution_count": 21,
   "id": "e1814f9a-eeca-4df6-897c-4e37771cb93c",
   "metadata": {
    "ExecuteTime": {
     "end_time": "2024-11-26T09:52:49.954461Z",
     "start_time": "2024-11-26T09:51:37.154831Z"
    },
    "scrolled": true
   },
   "outputs": [],
   "source": [
    "first_time = True\n",
    "dt = 3\n",
    "t = dt/0.1\n",
    "for elong_r in [0.5,1, 2.5, 5, 10, 20, 30, 40]:\n",
    "    prot_length = prot_aa_size[\"32xsuntag\"]+prot_aa_size[\"snail\"]\n",
    "    for i in range(100):\n",
    "        datas2 =datas[(datas[\"TRACK_ID\"]==i) & (datas[\"ELONGATION_RATE\"]==elong_r)][::int(t)]\n",
    "        (x, \n",
    "        y, \n",
    "        x_auto, \n",
    "        y_auto, \n",
    "        elongation_r, \n",
    "        translation_init_r,\n",
    "        perr) = single_track_analysis(datas2,\n",
    "                                     i, \n",
    "                                     delta_t = dt,\n",
    "                                     protein_size=prot_length,\n",
    "                                     normalise_intensity=1,\n",
    "                                     normalise_auto=True,\n",
    "                                     mm=None,\n",
    "                                     lowpass_=False,\n",
    "                                     cutoff=100,\n",
    "                                     rtol=1e-1,\n",
    "                                     method=\"linear\",\n",
    "                                     force_analysis=True,\n",
    "                                     first_dot=True,\n",
    "                                     simulation=True)\n",
    "        if first_time:\n",
    "            results = pd.DataFrame({\"elongation_r\":elongation_r, \n",
    "                                    \"init_translation_r\":translation_init_r, \n",
    "                                    \"dt\":dt,\n",
    "                                   \"id\":i,\n",
    "                                   \"elongation_rate\":elong_r},\n",
    "                                  index=[0])\n",
    "            first_time = False\n",
    "        \n",
    "        else:\n",
    "            results = pd.concat([results, \n",
    "                            pd.DataFrame({\"elongation_r\":elongation_r, \n",
    "                                          \"init_translation_r\":translation_init_r, \n",
    "                                          \"dt\":dt, \n",
    "                                          \"id\":i,\n",
    "                                         \"elongation_rate\":elong_r}, index=[0])\n",
    "                            ], ignore_index=True)\n",
    "results.to_csv(os.path.join(path, \"results_elongation_rate.csv\"))"
   ]
  },
  {
   "cell_type": "code",
   "execution_count": 7,
   "id": "dea70c71-36fb-4fde-8755-a7cdb403b786",
   "metadata": {
    "ExecuteTime": {
     "end_time": "2024-11-26T09:30:36.938551Z",
     "start_time": "2024-11-26T09:30:36.929545Z"
    }
   },
   "outputs": [
    {
     "data": {
      "text/html": [
       "<div>\n",
       "<style scoped>\n",
       "    .dataframe tbody tr th:only-of-type {\n",
       "        vertical-align: middle;\n",
       "    }\n",
       "\n",
       "    .dataframe tbody tr th {\n",
       "        vertical-align: top;\n",
       "    }\n",
       "\n",
       "    .dataframe thead th {\n",
       "        text-align: right;\n",
       "    }\n",
       "</style>\n",
       "<table border=\"1\" class=\"dataframe\">\n",
       "  <thead>\n",
       "    <tr style=\"text-align: right;\">\n",
       "      <th></th>\n",
       "      <th>elongation_r</th>\n",
       "      <th>init_translation_r</th>\n",
       "    </tr>\n",
       "    <tr>\n",
       "      <th>elongation_rate</th>\n",
       "      <th></th>\n",
       "      <th></th>\n",
       "    </tr>\n",
       "  </thead>\n",
       "  <tbody>\n",
       "    <tr>\n",
       "      <th>0.5</th>\n",
       "      <td>0.354123</td>\n",
       "      <td>798.631619</td>\n",
       "    </tr>\n",
       "    <tr>\n",
       "      <th>1.0</th>\n",
       "      <td>0.994995</td>\n",
       "      <td>114.869654</td>\n",
       "    </tr>\n",
       "    <tr>\n",
       "      <th>2.5</th>\n",
       "      <td>2.497317</td>\n",
       "      <td>31.771818</td>\n",
       "    </tr>\n",
       "    <tr>\n",
       "      <th>5.0</th>\n",
       "      <td>4.631341</td>\n",
       "      <td>26.061230</td>\n",
       "    </tr>\n",
       "    <tr>\n",
       "      <th>10.0</th>\n",
       "      <td>8.619040</td>\n",
       "      <td>28.172833</td>\n",
       "    </tr>\n",
       "    <tr>\n",
       "      <th>20.0</th>\n",
       "      <td>17.266466</td>\n",
       "      <td>27.979705</td>\n",
       "    </tr>\n",
       "    <tr>\n",
       "      <th>30.0</th>\n",
       "      <td>26.240754</td>\n",
       "      <td>27.420938</td>\n",
       "    </tr>\n",
       "    <tr>\n",
       "      <th>40.0</th>\n",
       "      <td>33.157179</td>\n",
       "      <td>28.127786</td>\n",
       "    </tr>\n",
       "  </tbody>\n",
       "</table>\n",
       "</div>"
      ],
      "text/plain": [
       "                 elongation_r  init_translation_r\n",
       "elongation_rate                                  \n",
       "0.5                  0.354123          798.631619\n",
       "1.0                  0.994995          114.869654\n",
       "2.5                  2.497317           31.771818\n",
       "5.0                  4.631341           26.061230\n",
       "10.0                 8.619040           28.172833\n",
       "20.0                17.266466           27.979705\n",
       "30.0                26.240754           27.420938\n",
       "40.0                33.157179           28.127786"
      ]
     },
     "execution_count": 7,
     "metadata": {},
     "output_type": "execute_result"
    }
   ],
   "source": [
    "results.groupby(by='elongation_rate')[['elongation_r','init_translation_r']].mean()"
   ]
  },
  {
   "cell_type": "code",
   "execution_count": 17,
   "id": "a98ea82c",
   "metadata": {
    "ExecuteTime": {
     "end_time": "2024-11-26T09:35:12.248182Z",
     "start_time": "2024-11-26T09:35:11.792528Z"
    },
    "scrolled": false
   },
   "outputs": [
    {
     "data": {
      "image/png": "[encoded data removed]",
      "text/plain": [
       "<Figure size 1000x400 with 2 Axes>"
      ]
     },
     "metadata": {},
     "output_type": "display_data"
    }
   ],
   "source": [
    "fig, ax = plt.subplots(1,2)\n",
    "\n",
    "violin = ax[0].violinplot(dataset = [results[results.elongation_rate == i][\"elongation_r\"].values \n",
    "                                     for i in [0.5,1, 2.5, 5, 10, 20, 30, 40]\n",
    "                          ],showmeans=True,\n",
    "      showmedians=True)\n",
    "\n",
    "for pc in violin[\"bodies\"]:\n",
    "    pc.set_facecolor(\"lightgrey\")\n",
    "    pc.set_edgecolor(\"lightgrey\")\n",
    "    pc.set_alpha(0.5)\n",
    "\n",
    "colors = [\"black\", \"black\", \"black\", \"red\", \"green\"]\n",
    "i=0\n",
    "for partname in ('cbars','cmins','cmaxes','cmeans','cmedians'):\n",
    "    vp = violin[partname]\n",
    "    vp.set_edgecolor(colors[i])\n",
    "    vp.set_linewidth(1)\n",
    "    i+=1\n",
    "    \n",
    "\n",
    "violin = ax[1].violinplot(dataset = [results[results.elongation_rate == i][\"init_translation_r\"].values \n",
    "                                      for i in [0.5,1, 2.5, 5, 10, 20, 30, 40]\n",
    "                                    ], showmeans=True,\n",
    "      showmedians=True)\n",
    "\n",
    "\n",
    "for pc in violin[\"bodies\"]:\n",
    "    pc.set_facecolor(\"lightgrey\")\n",
    "    pc.set_edgecolor(\"lightgrey\")\n",
    "    pc.set_alpha(0.5)\n",
    "\n",
    "colors = [\"black\", \"black\", \"black\", \"red\", \"green\"]\n",
    "i=0\n",
    "for partname in ('cbars','cmins','cmaxes','cmeans','cmedians'):\n",
    "    vp = violin[partname]\n",
    "    vp.set_edgecolor(colors[i])\n",
    "    vp.set_linewidth(1)\n",
    "    i+=1\n",
    "    \n",
    "group = 'elongation_rate'\n",
    "column = 'elongation_r'\n",
    "grouped = results.groupby(group)\n",
    "names, vals, xs = [], [] ,[]\n",
    "for i, (name, subdf) in enumerate(grouped):\n",
    "    names.append(name)\n",
    "    vals.append(subdf[column].tolist())\n",
    "    xs.append(np.random.normal(i+1, 0.04, subdf.shape[0]))\n",
    "clevels = np.linspace(0., 1., len(grouped))\n",
    "for x, val, clevel in zip(xs, vals, clevels):\n",
    "    ax[0].scatter(x, val, c='grey', alpha=1, s=10)\n",
    "    \n",
    "group = 'elongation_rate'\n",
    "column = 'init_translation_r'\n",
    "grouped = results.groupby(group)\n",
    "names, vals, xs = [], [] ,[]\n",
    "for i, (name, subdf) in enumerate(grouped):\n",
    "    names.append(name)\n",
    "    vals.append(subdf[column].tolist())\n",
    "    xs.append(np.random.normal(i+1, 0.04, subdf.shape[0]))\n",
    "clevels = np.linspace(0., 1., len(grouped))\n",
    "for x, val, clevel in zip(xs, vals, clevels):\n",
    "    ax[1].scatter(x, val, c='grey', alpha=1, s=20)\n",
    "    \n",
    "def set_axis_style(ax, labels):\n",
    "    ax.set_xticks(np.arange(1, len(labels) + 1), labels=labels)\n",
    "    ax.set_xlim(0.25, len(labels) + 0.75)\n",
    "    ax.set_xlabel('Elongation rate')\n",
    "# set style for the axes\n",
    "labels = [0.5,1,2.5, 5,10,20,30,40]\n",
    "for a in ax:\n",
    "    set_axis_style(a, labels)\n",
    "\n",
    "ax[0].set_ylabel(\"Estimate elongation rate\")\n",
    "ax[1].set_ylabel(\"Estimate initiation rate\")\n",
    "    \n",
    "ax[0].plot([1,2,3,4,5,6,7,8],[0.5,1,2.5, 5,10,20,30,40])\n",
    "ax[1].hlines(1/0.05, 0.5, 8.5)\n",
    "fig.set_size_inches((10,4))\n",
    "# fig.savefig(os.path.join(path_save, \"results_elongation_rate_boxplot_original.eps\"), dpi=300)"
   ]
  },
  {
   "cell_type": "code",
   "execution_count": 20,
   "id": "4605ac0b",
   "metadata": {
    "ExecuteTime": {
     "end_time": "2024-11-26T09:35:44.543469Z",
     "start_time": "2024-11-26T09:35:44.439624Z"
    }
   },
   "outputs": [
    {
     "data": {
      "text/plain": [
       "(0.0, 100.0)"
      ]
     },
     "execution_count": 20,
     "metadata": {},
     "output_type": "execute_result"
    },
    {
     "data": {
      "image/png": "[encoded data removed]",
      "text/plain": [
       "<Figure size 640x480 with 1 Axes>"
      ]
     },
     "metadata": {},
     "output_type": "display_data"
    }
   ],
   "source": [
    "fig, ax = plt.subplots()\n",
    "ax.scatter(results[\"init_translation_r\"], results[\"elongation_r\"], c=results[\"elongation_rate\"])\n",
    "ax.set_xlim(0,100)"
   ]
  },
  {
   "cell_type": "code",
   "execution_count": 124,
   "id": "827e4132-230e-462c-a191-6f52dd28867d",
   "metadata": {
    "ExecuteTime": {
     "end_time": "2024-11-26T08:46:27.444569Z",
     "start_time": "2024-11-26T08:46:27.431499Z"
    }
   },
   "outputs": [
    {
     "data": {
      "text/plain": [
       "ConfidenceInterval(low=2.3603669694383713, high=2.634018058670752)"
      ]
     },
     "execution_count": 124,
     "metadata": {},
     "output_type": "execute_result"
    }
   ],
   "source": [
    "from scipy.stats import bootstrap\n",
    "\n",
    "d = (results[results.elongation_rate == 2.5][\"elongation_r\"].to_numpy(),)\n",
    "bootstrap_ci = bootstrap(d,\n",
    "                          np.mean, \n",
    "                          confidence_level=0.95,\n",
    "                          method=\"percentile\"\n",
    "                         )\n",
    "bootstrap_ci.confidence_interval"
   ]
  },
  {
   "cell_type": "code",
   "execution_count": 130,
   "id": "d1186fc3",
   "metadata": {
    "ExecuteTime": {
     "end_time": "2024-11-26T08:54:52.004709Z",
     "start_time": "2024-11-26T08:54:51.852555Z"
    },
    "scrolled": false
   },
   "outputs": [
    {
     "data": {
      "image/png": "[encoded data removed]",
      "text/plain": [
       "<Figure size 640x480 with 1 Axes>"
      ]
     },
     "metadata": {},
     "output_type": "display_data"
    },
    {
     "name": "stdout",
     "output_type": "stream",
     "text": [
      "ConfidenceInterval(low=2.3603669694383713, high=2.634018058670752)\n",
      "Bootstrap Mean Estimate: \t2.4974877009443857\n",
      "Bootstrap Median Estimate: \t2.497420455397449\n",
      "Bootstrap Standard Error: \t0.06925846956840728\n",
      "Mean: \t2.497317264772489\n",
      "Bootstrap Bias: 0.0001704361718966041\n"
     ]
    }
   ],
   "source": [
    "import matplotlib.pyplot as plt\n",
    "\n",
    "plt.hist(bootstrap_ci.bootstrap_distribution, density=True, bins=30, alpha=0.7, color='blue', edgecolor='black')\n",
    "plt.title('Bootstrap Distribution of Means')\n",
    "plt.xlabel('Mean')\n",
    "plt.ylabel('Frequency')\n",
    "plt.axvline(np.mean(d)  , color='grey', linestyle='dashed', label='data mean')\n",
    "plt.axvline(bootstrap_ci.confidence_interval.low, color='red', linestyle='dashed', label='2.5% CI')\n",
    "plt.axvline(bootstrap_ci.confidence_interval.high, color='red', linestyle='dashed', label='97.5% CI')\n",
    "plt.legend()\n",
    "plt.show()\n",
    "\n",
    "print(bootstrap_ci.confidence_interval)\n",
    "# calculate central tendency\n",
    "mean_estimate = np.mean(bootstrap_ci.bootstrap_distribution)\n",
    "median_estimate = np.median(bootstrap_ci.bootstrap_distribution)\n",
    "print(f\"Bootstrap Mean Estimate: \\t{mean_estimate}\")\n",
    "print(f\"Bootstrap Median Estimate: \\t{median_estimate}\")\n",
    "\n",
    "# measure variability\n",
    "standard_error = np.std(bootstrap_ci.bootstrap_distribution)\n",
    "print(f\"Bootstrap Standard Error: \\t{standard_error}\")\n",
    "\n",
    "# Assess bias\n",
    "original_statistic = np.mean(d)  \n",
    "print(f\"Mean: \\t{original_statistic}\")\n",
    "bias = np.mean(bootstrap_ci.bootstrap_distribution) - original_statistic\n",
    "print(f\"Bootstrap Bias: {bias}\")\n",
    "\n"
   ]
  },
  {
   "cell_type": "code",
   "execution_count": null,
   "id": "27d602c5",
   "metadata": {
    "ExecuteTime": {
     "end_time": "2024-11-25T16:10:06.941172Z",
     "start_time": "2024-11-25T16:10:06.937843Z"
    }
   },
   "outputs": [],
   "source": []
  },
  {
   "cell_type": "code",
   "execution_count": 126,
   "id": "af5775cc",
   "metadata": {
    "ExecuteTime": {
     "end_time": "2024-11-26T08:51:44.189324Z",
     "start_time": "2024-11-26T08:51:44.181541Z"
    }
   },
   "outputs": [
    {
     "data": {
      "text/html": [
       "<div>\n",
       "<style scoped>\n",
       "    .dataframe tbody tr th:only-of-type {\n",
       "        vertical-align: middle;\n",
       "    }\n",
       "\n",
       "    .dataframe tbody tr th {\n",
       "        vertical-align: top;\n",
       "    }\n",
       "\n",
       "    .dataframe thead th {\n",
       "        text-align: right;\n",
       "    }\n",
       "</style>\n",
       "<table border=\"1\" class=\"dataframe\">\n",
       "  <thead>\n",
       "    <tr style=\"text-align: right;\">\n",
       "      <th></th>\n",
       "      <th>elongation_r</th>\n",
       "      <th>init_translation_r</th>\n",
       "    </tr>\n",
       "    <tr>\n",
       "      <th>elongation_rate</th>\n",
       "      <th></th>\n",
       "      <th></th>\n",
       "    </tr>\n",
       "  </thead>\n",
       "  <tbody>\n",
       "    <tr>\n",
       "      <th>0.5</th>\n",
       "      <td>0.354123</td>\n",
       "      <td>0.001471</td>\n",
       "    </tr>\n",
       "    <tr>\n",
       "      <th>1.0</th>\n",
       "      <td>0.994995</td>\n",
       "      <td>0.009835</td>\n",
       "    </tr>\n",
       "    <tr>\n",
       "      <th>2.5</th>\n",
       "      <td>2.497317</td>\n",
       "      <td>0.039468</td>\n",
       "    </tr>\n",
       "    <tr>\n",
       "      <th>5.0</th>\n",
       "      <td>4.631341</td>\n",
       "      <td>0.043453</td>\n",
       "    </tr>\n",
       "    <tr>\n",
       "      <th>10.0</th>\n",
       "      <td>8.619040</td>\n",
       "      <td>0.039329</td>\n",
       "    </tr>\n",
       "    <tr>\n",
       "      <th>20.0</th>\n",
       "      <td>17.266466</td>\n",
       "      <td>0.037803</td>\n",
       "    </tr>\n",
       "    <tr>\n",
       "      <th>30.0</th>\n",
       "      <td>26.240754</td>\n",
       "      <td>0.037955</td>\n",
       "    </tr>\n",
       "    <tr>\n",
       "      <th>40.0</th>\n",
       "      <td>33.157179</td>\n",
       "      <td>0.036802</td>\n",
       "    </tr>\n",
       "  </tbody>\n",
       "</table>\n",
       "</div>"
      ],
      "text/plain": [
       "                 elongation_r  init_translation_r\n",
       "elongation_rate                                  \n",
       "0.5                  0.354123            0.001471\n",
       "1.0                  0.994995            0.009835\n",
       "2.5                  2.497317            0.039468\n",
       "5.0                  4.631341            0.043453\n",
       "10.0                 8.619040            0.039329\n",
       "20.0                17.266466            0.037803\n",
       "30.0                26.240754            0.037955\n",
       "40.0                33.157179            0.036802"
      ]
     },
     "execution_count": 126,
     "metadata": {},
     "output_type": "execute_result"
    }
   ],
   "source": [
    "result_group = results.groupby(by='elongation_rate')[['elongation_r','init_translation_r']].mean()\n",
    "result_group"
   ]
  },
  {
   "cell_type": "code",
   "execution_count": 127,
   "id": "7f2e4d67",
   "metadata": {
    "ExecuteTime": {
     "end_time": "2024-11-26T08:51:46.020484Z",
     "start_time": "2024-11-26T08:51:46.014443Z"
    }
   },
   "outputs": [
    {
     "data": {
      "text/html": [
       "<div>\n",
       "<style scoped>\n",
       "    .dataframe tbody tr th:only-of-type {\n",
       "        vertical-align: middle;\n",
       "    }\n",
       "\n",
       "    .dataframe tbody tr th {\n",
       "        vertical-align: top;\n",
       "    }\n",
       "\n",
       "    .dataframe thead th {\n",
       "        text-align: right;\n",
       "    }\n",
       "</style>\n",
       "<table border=\"1\" class=\"dataframe\">\n",
       "  <thead>\n",
       "    <tr style=\"text-align: right;\">\n",
       "      <th></th>\n",
       "      <th>elongation_r</th>\n",
       "      <th>init_translation_r</th>\n",
       "      <th>ratio</th>\n",
       "    </tr>\n",
       "    <tr>\n",
       "      <th>elongation_rate</th>\n",
       "      <th></th>\n",
       "      <th></th>\n",
       "      <th></th>\n",
       "    </tr>\n",
       "  </thead>\n",
       "  <tbody>\n",
       "    <tr>\n",
       "      <th>0.5</th>\n",
       "      <td>0.354123</td>\n",
       "      <td>0.001471</td>\n",
       "      <td>70.824517</td>\n",
       "    </tr>\n",
       "    <tr>\n",
       "      <th>1.0</th>\n",
       "      <td>0.994995</td>\n",
       "      <td>0.009835</td>\n",
       "      <td>99.499456</td>\n",
       "    </tr>\n",
       "    <tr>\n",
       "      <th>2.5</th>\n",
       "      <td>2.497317</td>\n",
       "      <td>0.039468</td>\n",
       "      <td>99.892691</td>\n",
       "    </tr>\n",
       "    <tr>\n",
       "      <th>5.0</th>\n",
       "      <td>4.631341</td>\n",
       "      <td>0.043453</td>\n",
       "      <td>92.626810</td>\n",
       "    </tr>\n",
       "    <tr>\n",
       "      <th>10.0</th>\n",
       "      <td>8.619040</td>\n",
       "      <td>0.039329</td>\n",
       "      <td>86.190402</td>\n",
       "    </tr>\n",
       "    <tr>\n",
       "      <th>20.0</th>\n",
       "      <td>17.266466</td>\n",
       "      <td>0.037803</td>\n",
       "      <td>86.332331</td>\n",
       "    </tr>\n",
       "    <tr>\n",
       "      <th>30.0</th>\n",
       "      <td>26.240754</td>\n",
       "      <td>0.037955</td>\n",
       "      <td>87.469178</td>\n",
       "    </tr>\n",
       "    <tr>\n",
       "      <th>40.0</th>\n",
       "      <td>33.157179</td>\n",
       "      <td>0.036802</td>\n",
       "      <td>82.892948</td>\n",
       "    </tr>\n",
       "  </tbody>\n",
       "</table>\n",
       "</div>"
      ],
      "text/plain": [
       "                 elongation_r  init_translation_r      ratio\n",
       "elongation_rate                                             \n",
       "0.5                  0.354123            0.001471  70.824517\n",
       "1.0                  0.994995            0.009835  99.499456\n",
       "2.5                  2.497317            0.039468  99.892691\n",
       "5.0                  4.631341            0.043453  92.626810\n",
       "10.0                 8.619040            0.039329  86.190402\n",
       "20.0                17.266466            0.037803  86.332331\n",
       "30.0                26.240754            0.037955  87.469178\n",
       "40.0                33.157179            0.036802  82.892948"
      ]
     },
     "execution_count": 127,
     "metadata": {},
     "output_type": "execute_result"
    }
   ],
   "source": [
    "result_group[\"ratio\"] = 100*result_group[\"elongation_r\"]/result_group.index\n",
    "result_group"
   ]
  },
  {
   "cell_type": "code",
   "execution_count": null,
   "id": "efde52c2",
   "metadata": {
    "ExecuteTime": {
     "end_time": "2024-11-26T08:52:18.919289Z",
     "start_time": "2024-11-26T08:52:18.906662Z"
    }
   },
   "outputs": [],
   "source": []
  },
  {
   "cell_type": "code",
   "execution_count": null,
   "id": "b9b0a939-6be0-4282-a811-d6dd2aa7ee4d",
   "metadata": {},
   "outputs": [],
   "source": []
  },
  {
   "cell_type": "code",
   "execution_count": null,
   "id": "c9a68b90",
   "metadata": {
    "ExecuteTime": {
     "end_time": "2024-11-25T11:57:15.493598Z",
     "start_time": "2024-11-25T11:57:15.481893Z"
    }
   },
   "outputs": [],
   "source": []
  },
  {
   "cell_type": "code",
   "execution_count": null,
   "id": "2a7af22f",
   "metadata": {
    "ExecuteTime": {
     "end_time": "2024-11-25T12:04:38.476116Z",
     "start_time": "2024-11-25T12:04:38.461445Z"
    },
    "scrolled": true
   },
   "outputs": [],
   "source": []
  },
  {
   "cell_type": "code",
   "execution_count": null,
   "id": "1d4acb1d",
   "metadata": {
    "ExecuteTime": {
     "end_time": "2024-11-25T11:55:16.347558Z",
     "start_time": "2024-11-25T11:55:16.343855Z"
    }
   },
   "outputs": [],
   "source": []
  },
  {
   "cell_type": "code",
   "execution_count": null,
   "id": "1497fe97",
   "metadata": {},
   "outputs": [],
   "source": []
  }
 ],
 "metadata": {
  "kernelspec": {
   "display_name": "Python 3 (ipykernel)",
   "language": "python",
   "name": "python3"
  },
  "language_info": {
   "codemirror_mode": {
    "name": "ipython",
    "version": 3
   },
   "file_extension": ".py",
   "mimetype": "text/x-python",
   "name": "python",
   "nbconvert_exporter": "python",
   "pygments_lexer": "ipython3",
   "version": "3.11.5"
  }
 },
 "nbformat": 4,
 "nbformat_minor": 5
}
