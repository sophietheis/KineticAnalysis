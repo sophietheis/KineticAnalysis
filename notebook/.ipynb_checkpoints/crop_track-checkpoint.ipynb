{
 "cells": [
  {
   "cell_type": "code",
   "execution_count": 57,
   "id": "f369bbc0",
   "metadata": {},
   "outputs": [],
   "source": [
    "import numpy as np\n",
    "import pandas as pd\n",
    "from czifile import imread, CziFile\n",
    "\n",
    "import tifffile as tiff\n",
    "import matplotlib.pyplot as plt\n",
    "\n",
    "import napari"
   ]
  },
  {
   "cell_type": "code",
   "execution_count": 2,
   "id": "5b6134b2",
   "metadata": {},
   "outputs": [],
   "source": [
    "# read one file\n",
    "path = \"/mnt/sda1/Sophie/3-KineticAnalysisData/2-Datas/SnailSuntag/\"\n",
    "files = [\n",
    "    \"1-sna-suntag-fast-imaging/220822 scFv msGFP2 x Snail Core 32X Suntag 24X MS2 E1 z8 t3_Airyscan Processing-20\",\n",
    "    \"1-sna-suntag-fast-imaging/220822 scFv msGFP2 x Snail Core 32X Suntag 24X MS2 E1 z8 t4_Airyscan Processing-20\",\n",
    "    \"1-sna-suntag-fast-imaging/220822 scFv msGFP2 x Snail Core 32X Suntag 24X MS2 E1 z8 t5_Airyscan Processing-20\",\n",
    "    \"2-120822-scfv-msgfp2-x-snail-core-32x-suntag-24-xms2-q670-cy3-flap-y-dapi-e3/120822 ScFv msGFP2 x Snail Core 32X Suntag 24 XMS2 Q670 Cy3 Flap Y DAPI E3 t2 z8_Airyscan Processing-01\",\n",
    "    \"3-100822-scfv-msgfp2-x-snail-shadow-32x-suntag-24x-ms2-e2-zoom-8/100822 scFv msGFP2 x Snail Shadow 32X Suntag 24X MS2 E2 zoom 8_Airyscan Processing\",\n",
    "    \"3-100822-scfv-msgfp2-x-snail-shadow-32x-suntag-24x-ms2-e2-zoom-8/scFv msGFP2 x Snail Shadow 32X Sunatg 24X MS2 E1 zoom 8_Airyscan Processing-03\"]\n",
    "\n",
    "x_size = 0.0920714\n",
    "y_size = 0.0920714\n",
    "z_size = 0.5\n",
    "dt = 0.39"
   ]
  },
  {
   "cell_type": "code",
   "execution_count": 58,
   "id": "efe522ea",
   "metadata": {},
   "outputs": [],
   "source": [
    "im_czi = CziFile(path+files[0]+\"/\"+files[0].split('/')[-1]+'.czi')\n",
    "im = zis.imread(path+files[0]+\"/\"+files[0].split('/')[-1]+'.czi')\n",
    "f = path+files[0]+\"/track_spot_table.csv\"\n",
    "datas = pd.read_csv(f)\n",
    "datas.drop(index=[0,1,2], inplace=True)\n",
    "datas['FRAME'] = pd.to_numeric(datas[\"FRAME\"])\n",
    "datas['POSITION_X'] = pd.to_numeric(datas[\"POSITION_X\"])\n",
    "datas['POSITION_Y'] = pd.to_numeric(datas[\"POSITION_Y\"])\n",
    "datas['POSITION_Z'] = pd.to_numeric(datas[\"POSITION_Z\"])\n",
    "datas['TRACK_ID'] = pd.to_numeric(datas[\"TRACK_ID\"])\n",
    "datas['MEAN_INTENSITY_CH1'] = pd.to_numeric(datas[\"MEAN_INTENSITY_CH1\"])\n",
    "datas['POSITION_T'] = pd.to_numeric(datas[\"POSITION_T\"])\n",
    "\n",
    "# viewer = napari.Viewer(ndisplay=3)\n",
    "# viewer.add_image(im, scale=[1,1,3])"
   ]
  },
  {
   "cell_type": "code",
   "execution_count": 107,
   "id": "0135c373",
   "metadata": {},
   "outputs": [
    {
     "name": "stdout",
     "output_type": "stream",
     "text": [
      "2 (66, 7, 11, 21)\n",
      "5 (50, 9, 15, 11)\n",
      "11 (44, 7, 19, 17)\n",
      "12 (49, 4, 14, 14)\n",
      "14 (45, 7, 10, 24)\n",
      "20 (36, 5, 15, 16)\n",
      "22 (48, 7, 11, 6)\n",
      "23 (36, 7, 25, 30)\n",
      "30 (38, 6, 9, 15)\n",
      "33 (31, 4, 13, 10)\n"
     ]
    }
   ],
   "source": [
    "tracks = np.unique(datas['TRACK_ID'])\n",
    "for t in tracks:\n",
    "    pos_x = np.round((np.min(datas[datas['TRACK_ID']==t]['POSITION_X'])/x_size, np.max(datas[datas['TRACK_ID']==t]['POSITION_X']/x_size)))\n",
    "    pos_y = np.round((np.min(datas[datas['TRACK_ID']==t]['POSITION_Y'])/y_size, np.max(datas[datas['TRACK_ID']==t]['POSITION_Y']/y_size)))\n",
    "    pos_z = np.round((np.min(datas[datas['TRACK_ID']==t]['POSITION_Z'])/z_size, np.max(datas[datas['TRACK_ID']==t]['POSITION_Z']/z_size)))\n",
    "    pos_t = np.round((np.min(datas[datas['TRACK_ID']==t]['POSITION_T'])/z_size, np.max(datas[datas['TRACK_ID']==t]['POSITION_T']/z_size)))\n",
    "    \n",
    "        \n",
    "    im_crop = im[int(pos_t[0]):int(pos_t[1]),\n",
    "                   0, \n",
    "                   int(pos_z[0]):int(pos_z[1]), \n",
    "                   int(pos_y[0]):int(pos_y[1]), \n",
    "                   int(pos_x[0]):int(pos_x[1])][:,:,:,:,0]\n",
    "    \n",
    "    print(t, im_crop.shape)\n",
    "    tiff.imwrite(path+files[0]+\"/Crops/crop_\"+str(t)+\".tif\", \n",
    "                 im_crop,\n",
    "                imagej=True,\n",
    "                resolution=(1./x_size, 1./y_size),\n",
    "                metadata={\n",
    "                'spacing': 0.5,\n",
    "                'unit': 'um',\n",
    "                'finterval': dt,\n",
    "                'axes': 'TZYX'\n",
    "             })"
   ]
  },
  {
   "cell_type": "code",
   "execution_count": 99,
   "id": "292f2974",
   "metadata": {},
   "outputs": [
    {
     "data": {
      "text/plain": [
       "(36, 0, 25, 26)"
      ]
     },
     "execution_count": 99,
     "metadata": {},
     "output_type": "execute_result"
    }
   ],
   "source": [
    "im_crop.shape"
   ]
  },
  {
   "cell_type": "code",
   "execution_count": null,
   "id": "82fcdd4e",
   "metadata": {},
   "outputs": [],
   "source": []
  },
  {
   "cell_type": "code",
   "execution_count": 96,
   "id": "78784d09",
   "metadata": {},
   "outputs": [
    {
     "data": {
      "text/plain": [
       "(31, 4, 13, 10)"
      ]
     },
     "execution_count": 96,
     "metadata": {},
     "output_type": "execute_result"
    }
   ],
   "source": [
    "im_crop[:,:,:,:,0].shape"
   ]
  },
  {
   "cell_type": "code",
   "execution_count": null,
   "id": "b538b3af",
   "metadata": {},
   "outputs": [],
   "source": []
  },
  {
   "cell_type": "code",
   "execution_count": null,
   "id": "2213e909",
   "metadata": {},
   "outputs": [],
   "source": []
  },
  {
   "cell_type": "code",
   "execution_count": null,
   "id": "165c4b82",
   "metadata": {},
   "outputs": [],
   "source": []
  }
 ],
 "metadata": {
  "kernelspec": {
   "display_name": "Python 3 (ipykernel)",
   "language": "python",
   "name": "python3"
  },
  "language_info": {
   "codemirror_mode": {
    "name": "ipython",
    "version": 3
   },
   "file_extension": ".py",
   "mimetype": "text/x-python",
   "name": "python",
   "nbconvert_exporter": "python",
   "pygments_lexer": "ipython3",
   "version": "3.9.12"
  }
 },
 "nbformat": 4,
 "nbformat_minor": 5
}
