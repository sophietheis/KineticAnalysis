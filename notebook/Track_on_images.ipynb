{
 "cells": [
  {
   "cell_type": "code",
   "execution_count": 1,
   "id": "530a0140",
   "metadata": {},
   "outputs": [],
   "source": [
    "import numpy as np\n",
    "import pandas as pd\n",
    "from scipy import optimize\n",
    "\n",
    "import matplotlib.pyplot as plt\n",
    "from aicsimageio import AICSImage\n",
    "from tifffile import tifffile\n",
    "import cv2\n",
    "import multipletau\n",
    "import czifile\n",
    "from skimage import io"
   ]
  },
  {
   "cell_type": "code",
   "execution_count": 2,
   "id": "b0e1ec89",
   "metadata": {},
   "outputs": [
    {
     "name": "stdout",
     "output_type": "stream",
     "text": [
      "Automatic pdb calling has been turned ON\n"
     ]
    }
   ],
   "source": [
    "%pdb"
   ]
  },
  {
   "cell_type": "code",
   "execution_count": 3,
   "id": "c5d93ac4",
   "metadata": {},
   "outputs": [],
   "source": [
    "# path = \"/mnt/sda1/Sophie/2-KineticAnalysisData/2-Datas/02-Long-Movie/SnailShadow/\"\n",
    "# files = [\n",
    "#     \"Snail S 061222 E1_2\",\n",
    "#     \"Snail S 061222 E2_1\",\n",
    "#     \"Snail S 061222 E2_3\", \n",
    "#     \"Snail S 061222 E3_2\", \n",
    "#     \"Snail S 061222 E3_3\", ]\n",
    "\n",
    "\n",
    "path = \"/mnt/sda1/Sophie/2-KineticAnalysisData/2-Datas/02-Long-Movie/SnailCoreTATA/\"\n",
    "files = [\n",
    "#         \"Snail CT 061222 E1_1\",\n",
    "#         \"Snail CT 061222 E1_2\",\n",
    "#         \"Snail CT 061222 E1_3\",\n",
    "#         \"Snail CT 061222 E2_1\",\n",
    "        'Snail CT 071222 E2_1',\n",
    "        'Snail CT 071222 E2_2',\n",
    "        \"Snail CT 071222 E3_1\",\n",
    "        \"Snail CT 071222 E3_3\",\n",
    "        ]\n",
    "\n",
    "track_ext = \"_track.csv\"\n",
    "czi_ext = \".czi\"\n",
    "\n",
    "DELTA_T = 0.39\n",
    "X_SIZE = 0.0920714\n",
    "Z_SIZE = 0.5\n",
    "def func_(x, T, c):\n",
    "    return (( ((T-x)/(c*(T**2))) * np.heaviside((T-x),0.5)) )"
   ]
  },
  {
   "cell_type": "code",
   "execution_count": 4,
   "id": "17040f20",
   "metadata": {},
   "outputs": [
    {
     "name": "stdout",
     "output_type": "stream",
     "text": [
      "Snail CT 071222 E2_1\n",
      "before tiff save\n",
      "after tiff save\n",
      "Snail CT 071222 E2_2\n",
      "before tiff save\n",
      "after tiff save\n",
      "Snail CT 071222 E3_1\n",
      "before tiff save\n",
      "after tiff save\n",
      "Snail CT 071222 E3_3\n",
      "before tiff save\n",
      "after tiff save\n"
     ]
    }
   ],
   "source": [
    "for f in files:\n",
    "    print(f)\n",
    "    # load image\n",
    "    img = czifile.imread(path+'/'+f+czi_ext)\n",
    "    img = AICSImage(path+'/'+f+czi_ext)\n",
    "    first_channel_data = img.get_image_data(\"TZYX\", C=0, S=0,)\n",
    "    \n",
    "    \n",
    "    #load csv\n",
    "    track_file = pd.read_csv(path+'/'+f+track_ext)\n",
    "    track_file.drop(index=[0,1,2], inplace=True)\n",
    "    track_file['FRAME'] = pd.to_numeric(track_file[\"FRAME\"])\n",
    "    track_file['POSITION_X'] = pd.to_numeric(track_file[\"POSITION_X\"])\n",
    "    track_file['POSITION_Y'] = pd.to_numeric(track_file[\"POSITION_Y\"])\n",
    "    track_file['TRACK_ID'] = pd.to_numeric(track_file[\"TRACK_ID\"])\n",
    "    track_file['MEAN_INTENSITY_CH1'] = pd.to_numeric(track_file[\"MEAN_INTENSITY_CH1\"])\n",
    "    track_file['POSITION_T'] = pd.to_numeric(track_file[\"POSITION_T\"])\n",
    "    track_file['POSITION_Z'] = pd.to_numeric(track_file[\"POSITION_Z\"])\n",
    "    \n",
    "    for id_ in np.unique(track_file['TRACK_ID']):\n",
    "\n",
    "        x = track_file[track_file.TRACK_ID==id_].sort_values('FRAME')['POSITION_T'].values-min(track_file[track_file.TRACK_ID==id_].sort_values('FRAME')['POSITION_T'].values)\n",
    "        y = track_file[track_file.TRACK_ID==id_].sort_values('FRAME')['MEAN_INTENSITY_CH1'].values-np.min(track_file[track_file.TRACK_ID==id_].sort_values('FRAME')['MEAN_INTENSITY_CH1'].values)\n",
    "       \n",
    "        \n",
    "        \n",
    "        mm = int(len(track_file[track_file.TRACK_ID==id_])/2-1)\n",
    "        if (mm%2)==0: \n",
    "            autocor = multipletau.autocorrelate(y,\n",
    "                                            m=mm,\n",
    "                                            deltat=DELTA_T, \n",
    "                                            normalize=True)\n",
    "        else: \n",
    "            autocor = multipletau.autocorrelate(y,\n",
    "                                            m=mm+1,\n",
    "                                            deltat=DELTA_T,\n",
    "                                            normalize=True)\n",
    "\n",
    "\n",
    "\n",
    "        popt, pcov = optimize.curve_fit(func_, \n",
    "                                    autocor.flatten()[0::2],\n",
    "                                    autocor.flatten()[1::2], \n",
    "                                    method='lm' )\n",
    "        if popt[0]>5:\n",
    "            track = track_file[track_file.TRACK_ID==id_].sort_values('FRAME')\n",
    "            for id_, val in track.iterrows():\n",
    "                \n",
    "                \n",
    "                # Center coordinates\n",
    "                center_coordinates = (int(val['POSITION_X']/X_SIZE), int(val['POSITION_Y']/X_SIZE))\n",
    "\n",
    "                # Radius of circle\n",
    "                radius = 2\n",
    "                # Line thickness of 2 px\n",
    "                thickness = 1\n",
    "                image = cv2.circle(first_channel_data[val['FRAME']][int(val['POSITION_Z']/Z_SIZE)],\n",
    "                                   center_coordinates,\n",
    "                                   radius,\n",
    "                                   np.max(track['MEAN_INTENSITY_CH1'])+5000,\n",
    "                                   thickness)\n",
    "    print(\"before tiff save\")\n",
    "    tifffile.imwrite(path+'/'+f+'_track.tiff',\n",
    "                     first_channel_data.astype(\"uint16\"),\n",
    "                     imagej=True,\n",
    "                     resolution=(1/X_SIZE, 1/X_SIZE),\n",
    "                     metadata={'spacing': Z_SIZE,\n",
    "                               'unit': 'um',\n",
    "                               'axes': 'TZYX',\n",
    "                               'hyperstack':True,\n",
    "                               'channels':1,\n",
    "                               'slices':first_channel_data.shape[1]})\n",
    "    print('after tiff save')"
   ]
  },
  {
   "cell_type": "code",
   "execution_count": null,
   "id": "0189122d",
   "metadata": {},
   "outputs": [],
   "source": []
  },
  {
   "cell_type": "code",
   "execution_count": null,
   "id": "578c1672",
   "metadata": {},
   "outputs": [],
   "source": []
  },
  {
   "cell_type": "code",
   "execution_count": null,
   "id": "9368b194",
   "metadata": {},
   "outputs": [],
   "source": []
  },
  {
   "cell_type": "code",
   "execution_count": null,
   "id": "02862413",
   "metadata": {},
   "outputs": [],
   "source": []
  },
  {
   "cell_type": "code",
   "execution_count": null,
   "id": "1b2542ef",
   "metadata": {},
   "outputs": [],
   "source": []
  },
  {
   "cell_type": "code",
   "execution_count": null,
   "id": "2e1b7198",
   "metadata": {},
   "outputs": [],
   "source": []
  },
  {
   "cell_type": "code",
   "execution_count": null,
   "id": "7865a3c9",
   "metadata": {},
   "outputs": [],
   "source": []
  },
  {
   "cell_type": "code",
   "execution_count": null,
   "id": "3f803405",
   "metadata": {},
   "outputs": [],
   "source": []
  },
  {
   "cell_type": "code",
   "execution_count": null,
   "id": "9f31a57e",
   "metadata": {},
   "outputs": [],
   "source": []
  }
 ],
 "metadata": {
  "kernelspec": {
   "display_name": "Python 3 (ipykernel)",
   "language": "python",
   "name": "python3"
  },
  "language_info": {
   "codemirror_mode": {
    "name": "ipython",
    "version": 3
   },
   "file_extension": ".py",
   "mimetype": "text/x-python",
   "name": "python",
   "nbconvert_exporter": "python",
   "pygments_lexer": "ipython3",
   "version": "3.9.12"
  }
 },
 "nbformat": 4,
 "nbformat_minor": 5
}
