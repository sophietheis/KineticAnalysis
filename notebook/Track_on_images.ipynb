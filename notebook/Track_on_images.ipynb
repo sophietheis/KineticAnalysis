{
 "cells": [
  {
   "cell_type": "code",
   "execution_count": 1,
   "id": "c79c0303",
   "metadata": {},
   "outputs": [],
   "source": [
    "import numpy as np\n",
    "import pandas as pd\n",
    "from scipy import optimize\n",
    "\n",
    "import matplotlib.pyplot as plt\n",
    "from aicsimageio import AICSImage\n",
    "from tifffile import tifffile\n",
    "import cv2\n",
    "import multipletau\n",
    "import czifile\n",
    "from skimage import io"
   ]
  },
  {
   "cell_type": "code",
   "execution_count": 2,
   "id": "5bc59095",
   "metadata": {},
   "outputs": [
    {
     "name": "stdout",
     "output_type": "stream",
     "text": [
      "Automatic pdb calling has been turned ON\n"
     ]
    }
   ],
   "source": [
    "%pdb"
   ]
  },
  {
   "cell_type": "code",
   "execution_count": 3,
   "id": "3a1dad84",
   "metadata": {},
   "outputs": [],
   "source": [
    "# path = \"/mnt/sda1/Sophie/2-KineticAnalysisData/2-Datas/02-Long-Movie/SnailShadow/\"\n",
    "# files = [\n",
    "#     \"Snail S 061222 E1_2\",\n",
    "#     \"Snail S 061222 E2_1\",\n",
    "#     \"Snail S 061222 E2_3\", \n",
    "#     \"Snail S 061222 E3_2\", \n",
    "#     \"Snail S 061222 E3_3\", ]\n",
    "\n",
    "\n",
    "path = \"/mnt/sda1/Sophie/2-KineticAnalysisData/2-Datas/02-Long-Movie/SnailCoreTATA/\"\n",
    "files = [\n",
    "#         \"Snail CT 061222 E1_1\",\n",
    "#         \"Snail CT 061222 E1_2\",\n",
    "#         \"Snail CT 061222 E1_3\",\n",
    "#         \"Snail CT 061222 E2_1\",\n",
    "        'Snail CT 071222 E2_1',\n",
    "        'Snail CT 071222 E2_2',\n",
    "        \"Snail CT 071222 E3_1\",\n",
    "        \"Snail CT 071222 E3_3\",\n",
    "        ]\n",
    "\n",
    "track_ext = \"_track.csv\"\n",
    "czi_ext = \".czi\"\n",
    "\n",
    "DELTA_T = 0.39\n",
    "X_SIZE = 0.0920714\n",
    "Z_SIZE = 0.5\n",
    "def func_(x, T, c):\n",
    "    return (( ((T-x)/(c*(T**2))) * np.heaviside((T-x),0.5)) )"
   ]
  },
  {
   "cell_type": "code",
   "execution_count": 4,
   "id": "add3ab6d",
   "metadata": {},
   "outputs": [
    {
     "name": "stdout",
     "output_type": "stream",
     "text": [
      "Snail CT 071222 E2_1\n",
      "before tiff save\n",
      "after tiff save\n",
      "Snail CT 071222 E2_2\n",
      "before tiff save\n",
      "after tiff save\n",
      "Snail CT 071222 E3_1\n",
      "before tiff save\n",
      "after tiff save\n",
      "Snail CT 071222 E3_3\n",
      "before tiff save\n",
      "after tiff save\n"
     ]
    }
   ],
   "source": [
    "for f in files:\n",
    "    print(f)\n",
    "    # load image\n",
    "    img = czifile.imread(path+'/'+f+czi_ext)\n",
    "    img = AICSImage(path+'/'+f+czi_ext)\n",
    "    first_channel_data = img.get_image_data(\"TZYX\", C=0, S=0,)\n",
    "    \n",
    "    \n",
    "    #load csv\n",
    "    track_file = pd.read_csv(path+'/'+f+track_ext)\n",
    "    track_file.drop(index=[0,1,2], inplace=True)\n",
    "    track_file['FRAME'] = pd.to_numeric(track_file[\"FRAME\"])\n",
    "    track_file['POSITION_X'] = pd.to_numeric(track_file[\"POSITION_X\"])\n",
    "    track_file['POSITION_Y'] = pd.to_numeric(track_file[\"POSITION_Y\"])\n",
    "    track_file['TRACK_ID'] = pd.to_numeric(track_file[\"TRACK_ID\"])\n",
    "    track_file['MEAN_INTENSITY_CH1'] = pd.to_numeric(track_file[\"MEAN_INTENSITY_CH1\"])\n",
    "    track_file['POSITION_T'] = pd.to_numeric(track_file[\"POSITION_T\"])\n",
    "    track_file['POSITION_Z'] = pd.to_numeric(track_file[\"POSITION_Z\"])\n",
    "    \n",
    "    for id_ in np.unique(track_file['TRACK_ID']):\n",
    "\n",
    "        x = track_file[track_file.TRACK_ID==id_].sort_values('FRAME')['POSITION_T'].values-min(track_file[track_file.TRACK_ID==id_].sort_values('FRAME')['POSITION_T'].values)\n",
    "        y = track_file[track_file.TRACK_ID==id_].sort_values('FRAME')['MEAN_INTENSITY_CH1'].values-np.min(track_file[track_file.TRACK_ID==id_].sort_values('FRAME')['MEAN_INTENSITY_CH1'].values)\n",
    "       \n",
    "        \n",
    "        \n",
    "        mm = int(len(track_file[track_file.TRACK_ID==id_])/2-1)\n",
    "        if (mm%2)==0: \n",
    "            autocor = multipletau.autocorrelate(y,\n",
    "                                            m=mm,\n",
    "                                            deltat=DELTA_T, \n",
    "                                            normalize=True)\n",
    "        else: \n",
    "            autocor = multipletau.autocorrelate(y,\n",
    "                                            m=mm+1,\n",
    "                                            deltat=DELTA_T,\n",
    "                                            normalize=True)\n",
    "\n",
    "\n",
    "\n",
    "        popt, pcov = optimize.curve_fit(func_, \n",
    "                                    autocor.flatten()[0::2],\n",
    "                                    autocor.flatten()[1::2], \n",
    "                                    method='lm' )\n",
    "        if popt[0]>5:\n",
    "            track = track_file[track_file.TRACK_ID==id_].sort_values('FRAME')\n",
    "            for id_, val in track.iterrows():\n",
    "                \n",
    "                \n",
    "                # Center coordinates\n",
    "                center_coordinates = (int(val['POSITION_X']/X_SIZE), int(val['POSITION_Y']/X_SIZE))\n",
    "\n",
    "                # Radius of circle\n",
    "                radius = 2\n",
    "                # Line thickness of 2 px\n",
    "                thickness = 1\n",
    "                image = cv2.circle(first_channel_data[val['FRAME']][int(val['POSITION_Z']/Z_SIZE)],\n",
    "                                   center_coordinates,\n",
    "                                   radius,\n",
    "                                   np.max(track['MEAN_INTENSITY_CH1'])+5000,\n",
    "                                   thickness)\n",
    "    print(\"before tiff save\")\n",
    "    tifffile.imwrite(path+'/'+f+'_track.tiff',\n",
    "                     first_channel_data.astype(\"uint16\"),\n",
    "                     imagej=True,\n",
    "                     resolution=(1/X_SIZE, 1/X_SIZE),\n",
    "                     metadata={'spacing': Z_SIZE,\n",
    "                               'unit': 'um',\n",
    "                               'axes': 'TZYX',\n",
    "                               'hyperstack':True,\n",
    "                               'channels':1,\n",
    "                               'slices':first_channel_data.shape[1]})\n",
    "    print('after tiff save')"
   ]
  },
  {
   "cell_type": "code",
   "execution_count": null,
   "id": "ceeae320",
   "metadata": {},
   "outputs": [],
   "source": []
  },
  {
   "cell_type": "code",
   "execution_count": null,
   "id": "9012c377",
   "metadata": {},
   "outputs": [],
   "source": []
  },
  {
   "cell_type": "code",
   "execution_count": null,
   "id": "28c357ce",
   "metadata": {},
   "outputs": [],
   "source": []
  },
  {
   "cell_type": "code",
   "execution_count": null,
   "id": "3736feb1",
   "metadata": {},
   "outputs": [],
   "source": []
  },
  {
   "cell_type": "markdown",
   "id": "3aa03f1c",
   "metadata": {},
   "source": [
    "# Crop around track"
   ]
  },
  {
   "cell_type": "code",
   "execution_count": null,
   "id": "13c133f9",
   "metadata": {},
   "outputs": [],
   "source": [
    "import numpy as np\n",
    "import pandas as pd\n",
    "from czifile import imread, CziFile\n",
    "\n",
    "import tifffile as tiff\n",
    "import matplotlib.pyplot as plt\n",
    "\n",
    "import napari"
   ]
  },
  {
   "cell_type": "code",
   "execution_count": null,
   "id": "dc25d8de",
   "metadata": {},
   "outputs": [],
   "source": [
    "# read one file\n",
    "path = \"/mnt/sda1/Sophie/2-KineticAnalysisData/2-Datas/01-Short_Movie_SnailSuntag/\"\n",
    "files = [\n",
    "    \"1-sna-suntag-fast-imaging/220822 scFv msGFP2 x Snail Core 32X Suntag 24X MS2 E1 z8 t3_Airyscan Processing-20\",\n",
    "    \"1-sna-suntag-fast-imaging/220822 scFv msGFP2 x Snail Core 32X Suntag 24X MS2 E1 z8 t4_Airyscan Processing-20\",\n",
    "    \"1-sna-suntag-fast-imaging/220822 scFv msGFP2 x Snail Core 32X Suntag 24X MS2 E1 z8 t5_Airyscan Processing-20\",\n",
    "    \"2-120822-scfv-msgfp2-x-snail-core-32x-suntag-24-xms2-q670-cy3-flap-y-dapi-e3/120822 ScFv msGFP2 x Snail Core 32X Suntag 24 XMS2 Q670 Cy3 Flap Y DAPI E3 t2 z8_Airyscan Processing-01\",\n",
    "    \"3-100822-scfv-msgfp2-x-snail-shadow-32x-suntag-24x-ms2-e2-zoom-8/100822 scFv msGFP2 x Snail Shadow 32X Suntag 24X MS2 E2 zoom 8_Airyscan Processing\",\n",
    "    \"3-100822-scfv-msgfp2-x-snail-shadow-32x-suntag-24x-ms2-e2-zoom-8/scFv msGFP2 x Snail Shadow 32X Sunatg 24X MS2 E1 zoom 8_Airyscan Processing-03\"]\n",
    "\n",
    "x_size = 0.0920714\n",
    "y_size = 0.0920714\n",
    "z_size = 0.5\n",
    "dt = 0.39"
   ]
  },
  {
   "cell_type": "code",
   "execution_count": null,
   "id": "4a76730b",
   "metadata": {},
   "outputs": [],
   "source": [
    "im_czi = CziFile(path+files[0]+\"/\"+files[0].split('/')[-1]+'.czi')\n",
    "im = imread(path+files[0]+\"/\"+files[0].split('/')[-1]+'.czi')\n",
    "f = path+files[0]+\"/track_spot_table.csv\"\n",
    "datas = pd.read_csv(f)\n",
    "datas.drop(index=[0,1,2], inplace=True)\n",
    "datas['FRAME'] = pd.to_numeric(datas[\"FRAME\"])\n",
    "datas['POSITION_X'] = pd.to_numeric(datas[\"POSITION_X\"])\n",
    "datas['POSITION_Y'] = pd.to_numeric(datas[\"POSITION_Y\"])\n",
    "datas['POSITION_Z'] = pd.to_numeric(datas[\"POSITION_Z\"])\n",
    "datas['TRACK_ID'] = pd.to_numeric(datas[\"TRACK_ID\"])\n",
    "datas['MEAN_INTENSITY_CH1'] = pd.to_numeric(datas[\"MEAN_INTENSITY_CH1\"])\n",
    "datas['POSITION_T'] = pd.to_numeric(datas[\"POSITION_T\"])\n",
    "\n",
    "# viewer = napari.Viewer(ndisplay=3)\n",
    "# viewer.add_image(im, scale=[1,1,3])"
   ]
  },
  {
   "cell_type": "code",
   "execution_count": null,
   "id": "bb1edb4b",
   "metadata": {},
   "outputs": [],
   "source": [
    "tracks = np.unique(datas['TRACK_ID'])\n",
    "for t in tracks:\n",
    "    pos_x = np.round((np.min(datas[datas['TRACK_ID']==t]['POSITION_X'])/x_size, np.max(datas[datas['TRACK_ID']==t]['POSITION_X']/x_size)))\n",
    "    pos_y = np.round((np.min(datas[datas['TRACK_ID']==t]['POSITION_Y'])/y_size, np.max(datas[datas['TRACK_ID']==t]['POSITION_Y']/y_size)))\n",
    "    pos_z = np.round((np.min(datas[datas['TRACK_ID']==t]['POSITION_Z'])/z_size, np.max(datas[datas['TRACK_ID']==t]['POSITION_Z']/z_size)))\n",
    "    pos_t = np.round((np.min(datas[datas['TRACK_ID']==t]['POSITION_T'])/z_size, np.max(datas[datas['TRACK_ID']==t]['POSITION_T']/z_size)))\n",
    "    \n",
    "        \n",
    "    im_crop = im[int(pos_t[0]):int(pos_t[1]),\n",
    "                   0, \n",
    "                   int(pos_z[0]):int(pos_z[1]), \n",
    "                   int(pos_y[0]):int(pos_y[1]), \n",
    "                   int(pos_x[0]):int(pos_x[1])][:,:,:,:,0]\n",
    "    \n",
    "    print(t, im_crop.shape)\n",
    "    tiff.imwrite(path+files[0]+\"/Crops/crop_\"+str(t)+\".tif\", \n",
    "                 im_crop,\n",
    "                imagej=True,\n",
    "                resolution=(1./x_size, 1./y_size),\n",
    "                metadata={\n",
    "                'spacing': 0.5,\n",
    "                'unit': 'um',\n",
    "                'finterval': dt,\n",
    "                'axes': 'TZYX'\n",
    "             })"
   ]
  },
  {
   "cell_type": "code",
   "execution_count": null,
   "id": "5f052d84",
   "metadata": {},
   "outputs": [],
   "source": [
    "im_crop.shape"
   ]
  },
  {
   "cell_type": "code",
   "execution_count": null,
   "id": "ae753441",
   "metadata": {},
   "outputs": [],
   "source": []
  },
  {
   "cell_type": "code",
   "execution_count": null,
   "id": "0a595495",
   "metadata": {},
   "outputs": [],
   "source": [
    "im_crop[:,:,:,:,0].shape"
   ]
  },
  {
   "cell_type": "code",
   "execution_count": null,
   "id": "8b059c01",
   "metadata": {},
   "outputs": [],
   "source": []
  },
  {
   "cell_type": "code",
   "execution_count": null,
   "id": "5fddcf04",
   "metadata": {},
   "outputs": [],
   "source": []
  },
  {
   "cell_type": "code",
   "execution_count": null,
   "id": "2849678f",
   "metadata": {},
   "outputs": [],
   "source": []
  }
 ],
 "metadata": {
  "kernelspec": {
   "display_name": "Python 3 (ipykernel)",
   "language": "python",
   "name": "python3"
  },
  "language_info": {
   "codemirror_mode": {
    "name": "ipython",
    "version": 3
   },
   "file_extension": ".py",
   "mimetype": "text/x-python",
   "name": "python",
   "nbconvert_exporter": "python",
   "pygments_lexer": "ipython3",
   "version": "3.9.12"
  }
 },
 "nbformat": 4,
 "nbformat_minor": 5
}
