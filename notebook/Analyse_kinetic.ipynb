{
 "cells": [
  {
   "cell_type": "code",
   "execution_count": null,
   "id": "fad72255",
   "metadata": {},
   "outputs": [],
   "source": [
    "import numpy as np\n",
    "import pandas as pd\n",
    "from scipy import optimize\n",
    "\n",
    "import matplotlib.pyplot as plt\n",
    "\n",
    "import multipletau"
   ]
  },
  {
   "cell_type": "code",
   "execution_count": null,
   "id": "45518b90",
   "metadata": {},
   "outputs": [],
   "source": [
    "%pdb"
   ]
  },
  {
   "cell_type": "code",
   "execution_count": null,
   "id": "e7232022",
   "metadata": {},
   "outputs": [],
   "source": [
    "def func_(x, T, c):\n",
    "    return (( ((T-x)/(c*(T**2))) * np.heaviside((T-x),0.5)) )"
   ]
  },
  {
   "cell_type": "code",
   "execution_count": null,
   "id": "3fbe0a1d",
   "metadata": {},
   "outputs": [],
   "source": [
    "DELTA_T = 0.39"
   ]
  },
  {
   "cell_type": "markdown",
   "id": "e2ba8682",
   "metadata": {},
   "source": [
    "# Single track analysis"
   ]
  },
  {
   "cell_type": "code",
   "execution_count": null,
   "id": "22809d55",
   "metadata": {},
   "outputs": [],
   "source": [
    "# read one file\n",
    "path = \"/mnt/sda1/Sophie/3-KineticAnalysisData/2-Datas/SnailSuntag/\"\n",
    "files = [\n",
    "    \"1-sna-suntag-fast-imaging/220822 scFv msGFP2 x Snail Core 32X Suntag 24X MS2 E1 z8 t3_Airyscan Processing-20\",\n",
    "    \"1-sna-suntag-fast-imaging/220822 scFv msGFP2 x Snail Core 32X Suntag 24X MS2 E1 z8 t4_Airyscan Processing-20\",\n",
    "    \"1-sna-suntag-fast-imaging/220822 scFv msGFP2 x Snail Core 32X Suntag 24X MS2 E1 z8 t5_Airyscan Processing-20\",\n",
    "    \"2-120822-scfv-msgfp2-x-snail-core-32x-suntag-24-xms2-q670-cy3-flap-y-dapi-e3/120822 ScFv msGFP2 x Snail Core 32X Suntag 24 XMS2 Q670 Cy3 Flap Y DAPI E3 t2 z8_Airyscan Processing-01\",\n",
    "    \"3-100822-scfv-msgfp2-x-snail-shadow-32x-suntag-24x-ms2-e2-zoom-8/100822 scFv msGFP2 x Snail Shadow 32X Suntag 24X MS2 E2 zoom 8_Airyscan Processing\",\n",
    "    \"3-100822-scfv-msgfp2-x-snail-shadow-32x-suntag-24x-ms2-e2-zoom-8/scFv msGFP2 x Snail Shadow 32X Sunatg 24X MS2 E1 zoom 8_Airyscan Processing-03\"]\n",
    "\n",
    "f = path+files[3]+\"/track_spot_table.csv\"\n",
    "datas = pd.read_csv(f)\n",
    "datas.drop(index=[0,1,2], inplace=True)\n",
    "datas['FRAME'] = pd.to_numeric(datas[\"FRAME\"])\n",
    "datas['POSITION_X'] = pd.to_numeric(datas[\"POSITION_X\"])\n",
    "datas['POSITION_Y'] = pd.to_numeric(datas[\"POSITION_Y\"])\n",
    "datas['TRACK_ID'] = pd.to_numeric(datas[\"TRACK_ID\"])\n",
    "datas['MEAN_INTENSITY_CH1'] = pd.to_numeric(datas[\"MEAN_INTENSITY_CH1\"])\n",
    "datas['POSITION_T'] = pd.to_numeric(datas[\"POSITION_T\"])"
   ]
  },
  {
   "cell_type": "code",
   "execution_count": null,
   "id": "bb67539d",
   "metadata": {
    "scrolled": true
   },
   "outputs": [],
   "source": [
    "print(np.unique(datas.TRACK_ID))\n",
    "datas.head()"
   ]
  },
  {
   "cell_type": "code",
   "execution_count": null,
   "id": "25d02e34",
   "metadata": {},
   "outputs": [],
   "source": []
  },
  {
   "cell_type": "code",
   "execution_count": null,
   "id": "46c5d0fe",
   "metadata": {},
   "outputs": [],
   "source": [
    "# Analyse one track\n",
    "# Choose your track id\n",
    "id_= np.unique(datas.TRACK_ID)[0]\n",
    "id_ = 12\n",
    "print(id_)\n",
    "\n",
    "x = datas[datas.TRACK_ID==id_].sort_values('FRAME')['POSITION_T'].values-min(datas[datas.TRACK_ID==id_].sort_values('FRAME')['POSITION_T'].values)\n",
    "y = datas[datas.TRACK_ID==id_].sort_values('FRAME')['MEAN_INTENSITY_CH1'].values/2**16*100\n",
    "fig, ax = plt.subplots(2,1)\n",
    "ax[0].plot(x,y)\n",
    "ax[0].set_xlabel(\"time\")\n",
    "ax[0].set_ylabel(\"fluo intensity\")\n",
    "\n",
    "mm = int(len(datas[datas.TRACK_ID==id_])/2-1)\n",
    "if (mm%2)==0: \n",
    "    autocor = multipletau.autocorrelate(y,\n",
    "                                    m=mm,\n",
    "                                    deltat=DELTA_T, \n",
    "                                    normalize=True)\n",
    "else: \n",
    "    autocor = multipletau.autocorrelate(y,\n",
    "                                    m=mm+1,\n",
    "                                    deltat=DELTA_T,\n",
    "                                    normalize=True)\n",
    "\n",
    "\n",
    "\n",
    "popt, pcov = optimize.curve_fit(func_, \n",
    "                            autocor.flatten()[0::2],\n",
    "                            autocor.flatten()[1::2], \n",
    "                            method='lm' )\n",
    "\n",
    "\n",
    "ax[1].plot(autocor.flatten()[0::2], autocor.flatten()[1::2], '.')\n",
    "ax[1].plot(autocor.flatten()[0::2], func_(autocor.flatten()[0::2], *popt) )\n",
    "ax[1].set_xlabel(\"Time delay \\Tau (sec)\")\n",
    "ax[1].set_ylabel(\"G(\\Tau)\")\n",
    "\n",
    "fig.set_size_inches((10,10))"
   ]
  },
  {
   "cell_type": "code",
   "execution_count": null,
   "id": "68ad14b3",
   "metadata": {},
   "outputs": [],
   "source": []
  },
  {
   "cell_type": "code",
   "execution_count": null,
   "id": "56bf37a1",
   "metadata": {},
   "outputs": [],
   "source": []
  },
  {
   "cell_type": "markdown",
   "id": "53877949",
   "metadata": {},
   "source": [
    "# plot all track that was keep in result table"
   ]
  },
  {
   "cell_type": "code",
   "execution_count": null,
   "id": "a1fa8f5a",
   "metadata": {},
   "outputs": [],
   "source": [
    "columns = ['file_name', 'track_id','len_track', 'elongation_time', 'init_translation_rate']\n",
    "result = pd.DataFrame(columns=columns, dtype=float)\n",
    "elongation_time=[]\n",
    "translation_rate=[]\n",
    "\n",
    "datas = pd.read_csv(f)\n",
    "datas.drop(index=[0,1,2], inplace=True)\n",
    "datas['FRAME'] = pd.to_numeric(datas[\"FRAME\"])\n",
    "datas['POSITION_X'] = pd.to_numeric(datas[\"POSITION_X\"])\n",
    "datas['POSITION_Y'] = pd.to_numeric(datas[\"POSITION_Y\"])\n",
    "datas['TRACK_ID'] = pd.to_numeric(datas[\"TRACK_ID\"])\n",
    "datas['MEAN_INTENSITY_CH1'] = pd.to_numeric(datas[\"MEAN_INTENSITY_CH1\"])\n",
    "datas['POSITION_T'] = pd.to_numeric(datas[\"POSITION_T\"])\n",
    "\n",
    "\n",
    "\n",
    "for id_ in np.unique(datas['TRACK_ID']):\n",
    "\n",
    "    x = datas[datas.TRACK_ID==id_].sort_values('FRAME')['POSITION_T'].values-min(datas[datas.TRACK_ID==id_].sort_values('FRAME')['POSITION_T'].values)\n",
    "    y = datas[datas.TRACK_ID==id_].sort_values('FRAME')['MEAN_INTENSITY_CH1'].values\n",
    "\n",
    "    mm = int(len(datas[datas.TRACK_ID==id_])/2-1)\n",
    "    if (mm%2)==0: \n",
    "        autocor = multipletau.autocorrelate(y,\n",
    "                                        m=mm,\n",
    "                                        deltat=DELTA_T, \n",
    "                                        normalize=True)\n",
    "    else: \n",
    "        autocor = multipletau.autocorrelate(y,\n",
    "                                        m=mm+1,\n",
    "                                        deltat=DELTA_T,\n",
    "                                        normalize=True)\n",
    "\n",
    "\n",
    "\n",
    "    popt, pcov = optimize.curve_fit(func_, \n",
    "                                autocor.flatten()[0::2],\n",
    "                                autocor.flatten()[1::2], \n",
    "                                method='lm' )\n",
    "    if popt[0]>0:\n",
    "        d = pd.DataFrame.from_dict({'file_name':f.split('/')[-2],\n",
    "                                    'track_id':id_,\n",
    "                                    'len_track': len(x),\n",
    "                                    'elongation_time':popt[0],\n",
    "                                    'init_translation_rate':popt[1]},\n",
    "                                   orient='index').T\n",
    "        result = pd.concat([result, d], ignore_index=True)\n",
    "\n",
    "# result.drop(result[result[\"len_track\"]<100].index, inplace=True)"
   ]
  },
  {
   "cell_type": "code",
   "execution_count": null,
   "id": "09008be1",
   "metadata": {},
   "outputs": [],
   "source": [
    "result"
   ]
  },
  {
   "cell_type": "code",
   "execution_count": null,
   "id": "e3cdb33a",
   "metadata": {},
   "outputs": [],
   "source": [
    "from mpl_toolkits.mplot3d.axes3d import Axes3D\n",
    "fig = plt.figure()\n",
    "ax = plt.axes(projection='3d')\n",
    "\n",
    "# ax.get_proj = lambda: np.dot(Axes3D.get_proj(ax), np.diag([1, 0.5, 0.5, 1]))\n",
    "ax.set_box_aspect(aspect = (3,1,1))\n",
    "\n",
    "\n",
    "for id_ in np.unique(result['track_id'].to_numpy()):\n",
    "    x = (datas[datas.TRACK_ID==id_].sort_values('FRAME')['POSITION_T'].to_numpy()\n",
    "         - np.min(datas[datas.TRACK_ID==id_].sort_values('FRAME')['POSITION_T'].to_numpy()))\n",
    "    y = (datas[datas.TRACK_ID==id_].sort_values('FRAME')['POSITION_X'].to_numpy()\n",
    "         - np.min(datas[datas.TRACK_ID==id_].sort_values('FRAME')['POSITION_X'].to_numpy()))\n",
    "    z = (datas[datas.TRACK_ID==id_].sort_values('FRAME')['POSITION_Y'].to_numpy()\n",
    "         - np.min(datas[datas.TRACK_ID==id_].sort_values('FRAME')['POSITION_Y'].to_numpy()))\n",
    "    \n",
    "    ax.plot(x, \n",
    "            y, \n",
    "            z, \n",
    "            '.-',\n",
    "            alpha = 0.5\n",
    "            )\n",
    "\n",
    "\n",
    "fig.set_size_inches((15, 15))\n",
    "\n",
    "ax.view_init(elev=10., azim=-80)"
   ]
  },
  {
   "cell_type": "code",
   "execution_count": null,
   "id": "e145c663",
   "metadata": {},
   "outputs": [],
   "source": [
    "import matplotlib.colors as mcolors\n",
    "fig, ax = plt.subplots(3,1)\n",
    "\n",
    "colors = list(mcolors.TABLEAU_COLORS.keys())\n",
    "\n",
    "i=0\n",
    "for id_ in np.unique(result['track_id']):\n",
    "\n",
    "    x = datas[datas.TRACK_ID==id_].sort_values('FRAME')['POSITION_T'].values-min(datas[datas.TRACK_ID==id_].sort_values('FRAME')['POSITION_T'].values)\n",
    "    y = datas[datas.TRACK_ID==id_].sort_values('FRAME')['MEAN_INTENSITY_CH1'].values\n",
    "    \n",
    "    ax[0].plot(x, y, color=colors[i])\n",
    "\n",
    "\n",
    "    mm = int(len(datas[datas.TRACK_ID==id_])/2-1)\n",
    "    if (mm%2)==0: \n",
    "        autocor = multipletau.autocorrelate(y,\n",
    "                                        m=mm,\n",
    "                                        deltat=0.5, \n",
    "                                        normalize=True)\n",
    "    else: \n",
    "        autocor = multipletau.autocorrelate(y,\n",
    "                                        m=mm+1,\n",
    "                                        deltat=0.5,\n",
    "                                        normalize=True)\n",
    "\n",
    "\n",
    "\n",
    "    popt, pcov = optimize.curve_fit(func_, \n",
    "                                autocor.flatten()[0::2],\n",
    "                                autocor.flatten()[1::2], \n",
    "                                method='lm' )\n",
    "\n",
    "\n",
    "    ax[1].plot(autocor.flatten()[0::2], autocor.flatten()[1::2], '.', color=colors[i])\n",
    "    ax[1].plot(autocor.flatten()[0::2], func_(autocor.flatten()[0::2], *popt), color=colors[i] )\n",
    "    \n",
    "    ax[2].plot(autocor.flatten()[0::2], autocor.flatten()[1::2]/autocor.flatten()[1], '-.', color=colors[i])\n",
    "    \n",
    "    \n",
    "    if i == 7:\n",
    "        i=0\n",
    "    else:\n",
    "        i+=1\n",
    "\n",
    "ax[0].set_xlabel(\"time\")\n",
    "ax[0].set_ylabel(\"fluo intensity\")\n",
    "ax[1].set_xlabel(\"Time delay \\Tau (sec)\")\n",
    "ax[1].set_ylabel(\"G(\\Tau)\")\n",
    "\n",
    "ax[2].set_xlabel(\"Time delay \\Tau (sec)\")\n",
    "ax[2].set_ylabel(\"G(\\Tau)/G_0\")\n",
    "\n",
    "fig.set_size_inches((15,10))"
   ]
  },
  {
   "cell_type": "code",
   "execution_count": null,
   "id": "497aa4aa",
   "metadata": {},
   "outputs": [],
   "source": [
    "fig, ax = plt.subplots(1, 2)\n",
    "ax[0].scatter(result['len_track'], result['elongation_time'], s=50)\n",
    "ax[1].scatter(result['len_track'], result['init_translation_rate'], s=50)\n",
    "fig.set_size_inches((10,5))"
   ]
  },
  {
   "cell_type": "code",
   "execution_count": null,
   "id": "9f4afe9b",
   "metadata": {},
   "outputs": [],
   "source": []
  },
  {
   "cell_type": "code",
   "execution_count": null,
   "id": "1f58cb6c",
   "metadata": {},
   "outputs": [],
   "source": []
  },
  {
   "cell_type": "code",
   "execution_count": null,
   "id": "602f12c8",
   "metadata": {},
   "outputs": [],
   "source": []
  },
  {
   "cell_type": "code",
   "execution_count": null,
   "id": "92d5cd65",
   "metadata": {},
   "outputs": [],
   "source": []
  },
  {
   "cell_type": "code",
   "execution_count": null,
   "id": "922cda1d",
   "metadata": {},
   "outputs": [],
   "source": []
  },
  {
   "cell_type": "code",
   "execution_count": null,
   "id": "2998b53d",
   "metadata": {},
   "outputs": [],
   "source": []
  },
  {
   "cell_type": "markdown",
   "id": "9a77d36c",
   "metadata": {},
   "source": [
    "# Multiple file analysis"
   ]
  },
  {
   "cell_type": "code",
   "execution_count": null,
   "id": "0674995f",
   "metadata": {},
   "outputs": [],
   "source": [
    "path = \"/mnt/sda1/Sophie/3-KineticAnalysisData/2-Datas/SnailSuntag/\"\n",
    "files = [\n",
    "    \"1-sna-suntag-fast-imaging/220822 scFv msGFP2 x Snail Core 32X Suntag 24X MS2 E1 z8 t3_Airyscan Processing-20\",\n",
    "    \"1-sna-suntag-fast-imaging/220822 scFv msGFP2 x Snail Core 32X Suntag 24X MS2 E1 z8 t4_Airyscan Processing-20\",\n",
    "    \"1-sna-suntag-fast-imaging/220822 scFv msGFP2 x Snail Core 32X Suntag 24X MS2 E1 z8 t5_Airyscan Processing-20\",\n",
    "    \"2-120822-scfv-msgfp2-x-snail-core-32x-suntag-24-xms2-q670-cy3-flap-y-dapi-e3/120822 ScFv msGFP2 x Snail Core 32X Suntag 24 XMS2 Q670 Cy3 Flap Y DAPI E3 t2 z8_Airyscan Processing-01\",\n",
    "    \"3-100822-scfv-msgfp2-x-snail-shadow-32x-suntag-24x-ms2-e2-zoom-8/100822 scFv msGFP2 x Snail Shadow 32X Suntag 24X MS2 E2 zoom 8_Airyscan Processing\",\n",
    "    \"3-100822-scfv-msgfp2-x-snail-shadow-32x-suntag-24x-ms2-e2-zoom-8/scFv msGFP2 x Snail Shadow 32X Sunatg 24X MS2 E1 zoom 8_Airyscan Processing-03\"\n",
    "        ]\n"
   ]
  },
  {
   "cell_type": "code",
   "execution_count": null,
   "id": "3836ec60",
   "metadata": {},
   "outputs": [],
   "source": [
    "columns = ['file_name', 'track_id','len_track', 'elongation_time', 'init_translation_rate']\n",
    "result = pd.DataFrame(columns=columns, dtype=float)\n",
    "elongation_time=[]\n",
    "translation_rate=[]\n",
    "for f in files:\n",
    "    f = path+f+\"/track_spot_table.csv\"\n",
    "    datas = pd.read_csv(f)\n",
    "    datas.drop(index=[0,1,2], inplace=True)\n",
    "    datas['FRAME'] = pd.to_numeric(datas[\"FRAME\"])\n",
    "    datas['POSITION_X'] = pd.to_numeric(datas[\"POSITION_X\"])\n",
    "    datas['POSITION_Y'] = pd.to_numeric(datas[\"POSITION_Y\"])\n",
    "    datas['TRACK_ID'] = pd.to_numeric(datas[\"TRACK_ID\"])\n",
    "    datas['MEAN_INTENSITY_CH1'] = pd.to_numeric(datas[\"MEAN_INTENSITY_CH1\"])\n",
    "    datas['POSITION_T'] = pd.to_numeric(datas[\"POSITION_T\"])\n",
    "    \n",
    "\n",
    "\n",
    "    for id_ in np.unique(datas['TRACK_ID']):\n",
    "        \n",
    "        x = datas[datas.TRACK_ID==id_].sort_values('FRAME')['POSITION_T'].values-min(datas[datas.TRACK_ID==id_].sort_values('FRAME')['POSITION_T'].values)\n",
    "        y = datas[datas.TRACK_ID==id_].sort_values('FRAME')['MEAN_INTENSITY_CH1'].values\n",
    "\n",
    "        mm = int(len(datas[datas.TRACK_ID==id_])/2-1)\n",
    "        if (mm%2)==0: \n",
    "            autocor = multipletau.autocorrelate(y,\n",
    "                                            m=mm,\n",
    "                                            deltat=DELTA_T, \n",
    "                                            normalize=True)\n",
    "        else: \n",
    "            autocor = multipletau.autocorrelate(y,\n",
    "                                            m=mm+1,\n",
    "                                            deltat=DELTA_T,\n",
    "                                            normalize=True)\n",
    "\n",
    "\n",
    "\n",
    "        popt, pcov = optimize.curve_fit(func_, \n",
    "                                    autocor.flatten()[0::2],\n",
    "                                    autocor.flatten()[1::2], \n",
    "                                    method='lm' )\n",
    "        if popt[0]>0:\n",
    "            d = pd.DataFrame.from_dict({'file_name':f.split('/')[-2],\n",
    "                                        'track_id':id_,\n",
    "                                        'len_track': len(x),\n",
    "                                        'elongation_time':popt[0],\n",
    "                                        'init_translation_rate':popt[1]},\n",
    "                                       orient='index').T\n",
    "            result = pd.concat([result, d], ignore_index=True)\n",
    "\n",
    "# result.drop(result[result[\"len_track\"]<100].index, inplace=True)"
   ]
  },
  {
   "cell_type": "code",
   "execution_count": null,
   "id": "37c8a90f",
   "metadata": {},
   "outputs": [],
   "source": []
  },
  {
   "cell_type": "code",
   "execution_count": null,
   "id": "01cb914b",
   "metadata": {
    "scrolled": false
   },
   "outputs": [],
   "source": [
    "result"
   ]
  },
  {
   "cell_type": "code",
   "execution_count": null,
   "id": "81f1c16f",
   "metadata": {},
   "outputs": [],
   "source": [
    "# result['elongation_time'] = pd.to_numeric(result['elongation_time'])\n",
    "fig, ax = plt.subplots(1,2)\n",
    "result.boxplot(['elongation_time'] , \n",
    "               by='file_name', \n",
    "               grid=False, \n",
    "               ax = ax[0],\n",
    "               rot=90, \n",
    "              )\n",
    "\n",
    "result.boxplot([ 'init_translation_rate'] , \n",
    "               by='file_name', \n",
    "               grid=False, \n",
    "               ax = ax[1],\n",
    "               rot=90, \n",
    "               )\n",
    "# ax[1].set_ylim(0,250)\n",
    "fig.set_size_inches((20,10))"
   ]
  },
  {
   "cell_type": "code",
   "execution_count": null,
   "id": "233d377e",
   "metadata": {
    "scrolled": false
   },
   "outputs": [],
   "source": []
  },
  {
   "cell_type": "code",
   "execution_count": null,
   "id": "b2020246",
   "metadata": {},
   "outputs": [],
   "source": []
  },
  {
   "cell_type": "code",
   "execution_count": null,
   "id": "0ba03cbb",
   "metadata": {
    "scrolled": false
   },
   "outputs": [],
   "source": []
  },
  {
   "cell_type": "code",
   "execution_count": null,
   "id": "913593f2",
   "metadata": {},
   "outputs": [],
   "source": []
  },
  {
   "cell_type": "code",
   "execution_count": null,
   "id": "0374db94",
   "metadata": {},
   "outputs": [],
   "source": []
  },
  {
   "cell_type": "code",
   "execution_count": null,
   "id": "7f9e5565",
   "metadata": {},
   "outputs": [],
   "source": []
  },
  {
   "cell_type": "code",
   "execution_count": null,
   "id": "5817e577",
   "metadata": {},
   "outputs": [],
   "source": []
  },
  {
   "cell_type": "code",
   "execution_count": null,
   "id": "1a13cf62",
   "metadata": {},
   "outputs": [],
   "source": []
  },
  {
   "cell_type": "code",
   "execution_count": null,
   "id": "a6518fc4",
   "metadata": {},
   "outputs": [],
   "source": []
  },
  {
   "cell_type": "code",
   "execution_count": null,
   "id": "02883456",
   "metadata": {},
   "outputs": [],
   "source": []
  },
  {
   "cell_type": "code",
   "execution_count": null,
   "id": "1da2568c",
   "metadata": {},
   "outputs": [],
   "source": []
  },
  {
   "cell_type": "code",
   "execution_count": null,
   "id": "0c3759f1",
   "metadata": {},
   "outputs": [],
   "source": []
  },
  {
   "cell_type": "code",
   "execution_count": null,
   "id": "03facb01",
   "metadata": {},
   "outputs": [],
   "source": []
  },
  {
   "cell_type": "code",
   "execution_count": null,
   "id": "c243488e",
   "metadata": {},
   "outputs": [],
   "source": []
  },
  {
   "cell_type": "code",
   "execution_count": null,
   "id": "c19e7535",
   "metadata": {},
   "outputs": [],
   "source": []
  },
  {
   "cell_type": "code",
   "execution_count": null,
   "id": "3c99d898",
   "metadata": {},
   "outputs": [],
   "source": []
  },
  {
   "cell_type": "code",
   "execution_count": null,
   "id": "6ebdf8ce",
   "metadata": {},
   "outputs": [],
   "source": []
  },
  {
   "cell_type": "code",
   "execution_count": null,
   "id": "2c325e3a",
   "metadata": {},
   "outputs": [],
   "source": []
  },
  {
   "cell_type": "code",
   "execution_count": null,
   "id": "701c6eb6",
   "metadata": {},
   "outputs": [],
   "source": []
  },
  {
   "cell_type": "code",
   "execution_count": null,
   "id": "869303bb",
   "metadata": {},
   "outputs": [],
   "source": []
  }
 ],
 "metadata": {
  "kernelspec": {
   "display_name": "Python 3 (ipykernel)",
   "language": "python",
   "name": "python3"
  },
  "language_info": {
   "codemirror_mode": {
    "name": "ipython",
    "version": 3
   },
   "file_extension": ".py",
   "mimetype": "text/x-python",
   "name": "python",
   "nbconvert_exporter": "python",
   "pygments_lexer": "ipython3",
   "version": "3.9.12"
  }
 },
 "nbformat": 4,
 "nbformat_minor": 5
}
